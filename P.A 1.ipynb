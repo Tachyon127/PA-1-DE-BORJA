{
 "cells": [
  {
   "cell_type": "code",
   "execution_count": 11,
   "id": "2619735d-cdef-45a1-9271-f346ba2f4787",
   "metadata": {},
   "outputs": [
    {
     "name": "stdin",
     "output_type": "stream",
     "text": [
      "Enter ANYTHING!:  University of Santo Tomas\n"
     ]
    },
    {
     "name": "stdout",
     "output_type": "stream",
     "text": [
      "Alphabet SOUP:    STUaaefiimnnooorssttvy\n"
     ]
    }
   ],
   "source": [
    "def alphabet_soup(word: str):\n",
    "    return ''.join(sorted(word))\n",
    "\n",
    "word = input(\"Enter ANYTHING!: \")\n",
    "print(\"Alphabet SOUP:\", alphabet_soup(word))"
   ]
  },
  {
   "cell_type": "code",
   "execution_count": 16,
   "id": "d8daa3de-8b77-491f-926b-2a11fe4c5420",
   "metadata": {},
   "outputs": [
    {
     "name": "stdin",
     "output_type": "stream",
     "text": [
      "Enter a sentence:  i am sad and mad\n"
     ]
    },
    {
     "name": "stdout",
     "output_type": "stream",
     "text": [
      "Converted: i am :(( and >:(\n"
     ]
    }
   ],
   "source": [
    "def emotify(sentence):\n",
    "    emoticons = { \"smile\": \":)\", \"grin\": \":D\", \"sad\": \":((\", \"mad\": \">:(\"}\n",
    "    words = sentence.split()\n",
    "    result = []\n",
    "    \n",
    "    for word in words:\n",
    "        if word.lower() in emoticons:\n",
    "            result.append(emoticons[word.lower()])\n",
    "        else:\n",
    "            result.append(word)\n",
    "    \n",
    "    return \" \".join(result)\n",
    "\n",
    "sentence = input(\"Enter a sentence: \")\n",
    "print(\"Converted:\", emotify(sentence))\n"
   ]
  },
  {
   "cell_type": "code",
   "execution_count": 19,
   "id": "98bde367-8d28-4117-be3d-2c8a4f410a16",
   "metadata": {},
   "outputs": [
    {
     "name": "stdin",
     "output_type": "stream",
     "text": [
      "Enter numbers separated by spaces:  127 51 49 19 7\n"
     ]
    },
    {
     "name": "stdout",
     "output_type": "stream",
     "text": [
      "first: 127\n",
      "middle: ['51', '49', '19']\n",
      "last: 7\n"
     ]
    }
   ],
   "source": [
    "def unpack_list(lst):\n",
    "    first, *middle, last = lst\n",
    "    print(\"first:\", first)\n",
    "    print(\"middle:\", middle)\n",
    "    print(\"last:\", last)\n",
    "\n",
    "user = input(\"Enter numbers separated by spaces: \")\n",
    "lst = user.split()\n",
    "\n",
    "unpack_list(lst)"
   ]
  }
 ],
 "metadata": {
  "kernelspec": {
   "display_name": "Python 3 (ipykernel)",
   "language": "python",
   "name": "python3"
  },
  "language_info": {
   "codemirror_mode": {
    "name": "ipython",
    "version": 3
   },
   "file_extension": ".py",
   "mimetype": "text/x-python",
   "name": "python",
   "nbconvert_exporter": "python",
   "pygments_lexer": "ipython3",
   "version": "3.13.5"
  }
 },
 "nbformat": 4,
 "nbformat_minor": 5
}
